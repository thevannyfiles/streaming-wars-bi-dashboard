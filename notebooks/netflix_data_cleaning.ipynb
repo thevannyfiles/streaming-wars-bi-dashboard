{
 "cells": [
  {
   "cell_type": "code",
   "execution_count": 1,
   "id": "1a90a13d",
   "metadata": {},
   "outputs": [],
   "source": [
    "import pandas as pd\n",
    "import numpy as np\n",
    "from datetime import datetime"
   ]
  },
  {
   "cell_type": "code",
   "execution_count": 2,
   "id": "efb61745",
   "metadata": {},
   "outputs": [],
   "source": [
    "# Load the raw data\n",
    "netflix_df = pd.read_csv('/Users/vanessaokosun/Downloads/netflix_titles.csv')"
   ]
  },
  {
   "cell_type": "markdown",
   "id": "8fd8bbe6",
   "metadata": {},
   "source": [
    "## 1. Handeling Missing Values"
   ]
  },
  {
   "cell_type": "code",
   "execution_count": null,
   "id": "54bcaae0",
   "metadata": {},
   "outputs": [],
   "source": []
  }
 ],
 "metadata": {
  "kernelspec": {
   "display_name": "base",
   "language": "python",
   "name": "python3"
  },
  "language_info": {
   "codemirror_mode": {
    "name": "ipython",
    "version": 3
   },
   "file_extension": ".py",
   "mimetype": "text/x-python",
   "name": "python",
   "nbconvert_exporter": "python",
   "pygments_lexer": "ipython3",
   "version": "3.12.4"
  }
 },
 "nbformat": 4,
 "nbformat_minor": 5
}
