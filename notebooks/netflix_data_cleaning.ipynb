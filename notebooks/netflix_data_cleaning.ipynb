{
 "cells": [
  {
   "cell_type": "code",
   "execution_count": 5,
   "id": "1a90a13d",
   "metadata": {},
   "outputs": [],
   "source": [
    "import pandas as pd\n",
    "import numpy as np\n",
    "from datetime import datetime"
   ]
  },
  {
   "cell_type": "code",
   "execution_count": 6,
   "id": "efb61745",
   "metadata": {},
   "outputs": [],
   "source": [
    "# Load the raw data\n",
    "netflix_df = pd.read_csv('/Users/vanessaokosun/Downloads/netflix_titles.csv')"
   ]
  },
  {
   "cell_type": "markdown",
   "id": "8fd8bbe6",
   "metadata": {},
   "source": [
    "## 1. Handeling Missing Values"
   ]
  },
  {
   "cell_type": "code",
   "execution_count": 7,
   "id": "54bcaae0",
   "metadata": {},
   "outputs": [
    {
     "name": "stdout",
     "output_type": "stream",
     "text": [
      "Missing values by column:\n",
      "director      2634\n",
      "cast           825\n",
      "country        831\n",
      "date_added      10\n",
      "rating           4\n",
      "duration         3\n",
      "dtype: int64\n"
     ]
    }
   ],
   "source": [
    "# Check missing values\n",
    "missing_values = netflix_df.isnull().sum()\n",
    "print(\"Missing values by column:\")\n",
    "print(missing_values[missing_values > 0])\n",
    "\n",
    "# Handle missing values appropriately\n",
    "netflix_df['director'] = netflix_df['director'].fillna('Unknown')\n",
    "netflix_df['cast'] = netflix_df['cast'].fillna('Not Available')\n",
    "netflix_df['country'] = netflix_df['country'].fillna('Unknown')\n",
    "netflix_df['rating'] = netflix_df['rating'].fillna('Not Rated')\n",
    "netflix_df['date_added'] = pd.to_datetime(netflix_df['date_added'], errors='coerce')\n"
   ]
  },
  {
   "cell_type": "markdown",
   "id": "f5123fd7",
   "metadata": {},
   "source": [
    "## 2. FEATURE ENGINEERING"
   ]
  },
  {
   "cell_type": "code",
   "execution_count": 25,
   "id": "fc63944e",
   "metadata": {},
   "outputs": [
    {
     "name": "stderr",
     "output_type": "stream",
     "text": [
      "<>:27: SyntaxWarning: invalid escape sequence '\\d'\n",
      "<>:28: SyntaxWarning: invalid escape sequence '\\d'\n",
      "<>:27: SyntaxWarning: invalid escape sequence '\\d'\n",
      "<>:28: SyntaxWarning: invalid escape sequence '\\d'\n",
      "/var/folders/l3/8dwhb5_n1zq1zskmr1h73rx80000gn/T/ipykernel_24447/2720114345.py:27: SyntaxWarning: invalid escape sequence '\\d'\n",
      "  duration_str.str.extract('(\\d+)')[0].fillna(0).astype(int),\n",
      "/var/folders/l3/8dwhb5_n1zq1zskmr1h73rx80000gn/T/ipykernel_24447/2720114345.py:28: SyntaxWarning: invalid escape sequence '\\d'\n",
      "  duration_str.str.extract('(\\d+)')[0].fillna(0).astype(int)\n",
      "/var/folders/l3/8dwhb5_n1zq1zskmr1h73rx80000gn/T/ipykernel_24447/2720114345.py:27: FutureWarning: Downcasting object dtype arrays on .fillna, .ffill, .bfill is deprecated and will change in a future version. Call result.infer_objects(copy=False) instead. To opt-in to the future behavior, set `pd.set_option('future.no_silent_downcasting', True)`\n",
      "  duration_str.str.extract('(\\d+)')[0].fillna(0).astype(int),\n",
      "/var/folders/l3/8dwhb5_n1zq1zskmr1h73rx80000gn/T/ipykernel_24447/2720114345.py:28: FutureWarning: Downcasting object dtype arrays on .fillna, .ffill, .bfill is deprecated and will change in a future version. Call result.infer_objects(copy=False) instead. To opt-in to the future behavior, set `pd.set_option('future.no_silent_downcasting', True)`\n",
      "  duration_str.str.extract('(\\d+)')[0].fillna(0).astype(int)\n"
     ]
    }
   ],
   "source": [
    "# Extract year and month added\n",
    "netflix_df['year_added'] = netflix_df['date_added'].dt.year\n",
    "netflix_df['month_added'] = netflix_df['date_added'].dt.month\n",
    "netflix_df['day_added'] = netflix_df['date_added'].dt.day\n",
    "\n",
    "# Extract content age (years since release)\n",
    "netflix_df['release_year'] = pd.to_datetime(netflix_df['release_year'], errors='coerce')\n",
    "netflix_df['content_age'] = (datetime.now() - netflix_df['release_year']).dt.days // 365\n",
    "netflix_df['content_age'] = netflix_df['content_age'].fillna(0).astype(int)\n",
    "\n",
    "# Create duration_minutes for movies\n",
    "def extract_duration(row):\n",
    "    if isinstance(row, str):\n",
    "        if 'Season' in row:\n",
    "            return 0\n",
    "        else:\n",
    "            return int(row.split()[0])\n",
    "    return 0\n",
    "netflix_df['duration_minutes'] = netflix_df['duration'].apply(extract_duration)\n",
    "\n",
    "# Convert duration to minutes for movies and number of seasons for TV shows\n",
    "# Ensure 'duration' is string for string operations, handle NaN safely\n",
    "duration_str = netflix_df['duration'].fillna('').astype(str)\n",
    "\n",
    "netflix_df['duration_minutes'] = np.where(\n",
    "    duration_str.str.contains('Season', na=False),\n",
    "    duration_str.str.extract('(\\d+)')[0].fillna(0).astype(int),\n",
    "    duration_str.str.extract('(\\d+)')[0].fillna(0).astype(int)\n",
    ")\n",
    "\n",
    "# Extract main genre (first listed genre)\n",
    "netflix_df['main_genre'] = netflix_df['listed_in'].str.split(',').str[0].str.strip()\n",
    "\n",
    "# Create genre flags for top genres\n",
    "top_genres = ['Action & Adventure', 'Children & Family Movies', 'Comedies', 'Documentaries', 'Dramas', 'Horror Movies', 'International Movies', 'Romantic Movies', 'Sci-Fi & Fantasy', 'Thrillers']\n",
    "for genre in top_genres:\n",
    "    netflix_df[genre] = np.where(netflix_df['listed_in'].str.contains(genre), 1, 0)\n",
    "    \n",
    "# Create flag for potential Netflix Originals (simplified approach)\n",
    "if 'production_company' in netflix_df.columns:\n",
    "    netflix_df['is_original'] = np.where(netflix_df['production_company'].str.contains('Netflix', na=False), 1, 0)\n",
    "else:\n",
    "    netflix_df['is_original'] = 0  # or np.nan if you prefer\n",
    "\n",
    "# Create flag for content added in the last 30 days\n",
    "netflix_df['recently_added'] = np.where((datetime.now() - netflix_df['date_added']).dt.days <= 30, 1, 0)\n",
    "\n",
    "# Create flag for content added in the last 90 days\n",
    "netflix_df['recently_added_90'] = np.where((datetime.now() - netflix_df['date_added']).dt.days <= 90, 1, 0)\n",
    "\n",
    "# Create flag for content added in the last year\n",
    "netflix_df['recently_added_year'] = np.where((datetime.now() - netflix_df['date_added']).dt.days <= 365, 1, 0)\n",
    "\n"
   ]
  },
  {
   "cell_type": "markdown",
   "id": "977ff676",
   "metadata": {},
   "source": [
    "## 3. Data Validation & Consistency "
   ]
  },
  {
   "cell_type": "code",
   "execution_count": 26,
   "id": "0799e18f",
   "metadata": {},
   "outputs": [
    {
     "name": "stdout",
     "output_type": "stream",
     "text": [
      "Duplicate IDs: 0\n"
     ]
    }
   ],
   "source": [
    "# Check for duplicated show_id values\n",
    "duplicate_ids = netflix_df['show_id'].duplicated().sum()\n",
    "print(f\"Duplicate IDs: {duplicate_ids}\")\n",
    "\n",
    "# Remove any duplicates if they exist\n",
    "if duplicate_ids > 0:\n",
    "    netflix_df = netflix_df.drop_duplicates(subset=['show_id'])\n",
    "\n",
    "# Standardize country names (focusing on main production countries)\n",
    "country_mapping = {\n",
    "    'United States': ['US', 'USA', 'U.S.', 'U.S.A.', 'United States of America'],\n",
    "    'United Kingdom': ['UK', 'U.K.', 'Britain', 'Great Britain'],\n",
    "    # Add more mappings as needed\n",
    "}\n",
    "\n",
    "for standard, variants in country_mapping.items():\n",
    "    for variant in variants:\n",
    "        netflix_df['country'] = netflix_df['country'].str.replace(variant, standard, regex=False)"
   ]
  },
  {
   "cell_type": "markdown",
   "id": "d13cf2a1",
   "metadata": {},
   "source": [
    "## 4. Saved Clean Dataset"
   ]
  },
  {
   "cell_type": "code",
   "execution_count": 31,
   "id": "c947f019",
   "metadata": {},
   "outputs": [
    {
     "name": "stdout",
     "output_type": "stream",
     "text": [
      "Data cleaning complete. Cleaned file saved\n"
     ]
    }
   ],
   "source": [
    "netflix_df.to_csv('/Users/vanessaokosun/streaming-wars-bi-dashboard/streaming-wars-bi-dashboard/data/cleaned_netflix_titles.csv', index=False)\n",
    "\n",
    "print(\"Data cleaning complete. Cleaned file saved\")"
   ]
  }
 ],
 "metadata": {
  "kernelspec": {
   "display_name": "base",
   "language": "python",
   "name": "python3"
  },
  "language_info": {
   "codemirror_mode": {
    "name": "ipython",
    "version": 3
   },
   "file_extension": ".py",
   "mimetype": "text/x-python",
   "name": "python",
   "nbconvert_exporter": "python",
   "pygments_lexer": "ipython3",
   "version": "3.12.4"
  }
 },
 "nbformat": 4,
 "nbformat_minor": 5
}
