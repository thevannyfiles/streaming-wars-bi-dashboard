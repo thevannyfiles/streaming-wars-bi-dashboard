{
 "cells": [
  {
   "cell_type": "code",
   "execution_count": null,
   "id": "ce6aabad",
   "metadata": {},
   "outputs": [],
   "source": [
    "import pandas as pd\n",
    "import numpy as np\n",
    "import matplotlib.pyplot as plt\n",
    "from datetime import datetime, timedelta\n",
    "import random\n",
    "\n",
    "# Load cleaned Netflix data\n",
    "netflix_df = pd.read_csv('../data/processed/cleaned_netflix_titles.csv')"
   ]
  },
  {
   "cell_type": "markdown",
   "id": "8470d39b",
   "metadata": {},
   "source": [
    "# 1. SIMULATED VIEWERSHIP DATA"
   ]
  },
  {
   "cell_type": "code",
   "execution_count": null,
   "id": "f0d01b14",
   "metadata": {},
   "outputs": [],
   "source": [
    "# Set random seed for reproducibility\n",
    "random.seed(42)\n",
    "\n",
    "# Create a dictionary to simulate popularity based on genre and recency\n",
    "def simulate_popularity(genre, release_year):\n",
    "    # Base popularity score\n",
    "    base_score = random.randint(1, 10)\n",
    "    \n",
    "    # Adjust score based on genre\n",
    "    genre_factor = {\n",
    "        'Action': 1.5,\n",
    "        'Comedy': 1.2,\n",
    "        'Drama': 1.3,\n",
    "        'Horror': 1.4,\n",
    "        'Romance': 1.1,\n",
    "        'Sci-Fi': 1.6\n",
    "    }\n",
    "    \n",
    "    # Adjust score based on recency\n",
    "    current_year = datetime.now().year\n",
    "    recency_factor = max(0, (current_year - release_year) / 10)\n",
    "    \n",
    "    return base_score * genre_factor.get(genre, 1) * (1 - recency_factor)\n",
    "\n",
    "# Function to assign estimated viewership based on genre and recency\n",
    "def estimate_viewership(row):\n",
    "    genre = row['genre']\n",
    "    release_year = row['release_year']\n",
    "    \n",
    "    # Simulate popularity score\n",
    "    popularity_score = simulate_popularity(genre, release_year)\n",
    "    \n",
    "    # Recency factor (newer content gets more views)\n",
    "    recency_factor = max(0, (datetime.now().year - release_year) / 10)\n",
    "    \n",
    "    # Adjust popularity score based on recency\n",
    "    popularity_score *= (1 - recency_factor)\n",
    "    \n",
    "    # Normalize popularity score to a scale of 1-10\n",
    "    popularity_score = min(max(popularity_score, 1), 10)\n",
    "        \n",
    "    return estimated_viewership\n",
    "\n",
    "    # Rating popularity factor\n",
    "    def rating_popularity_factor(rating):\n",
    "        if rating == 'PG':\n",
    "            return 1.2\n",
    "        elif rating == 'PG-13':\n",
    "            return 1.5\n",
    "        elif rating == 'R':\n",
    "         return 1.8\n",
    "        else:\n",
    "            return 1.0\n",
    "\n",
    "\n"
   ]
  }
 ],
 "metadata": {
  "kernelspec": {
   "display_name": "base",
   "language": "python",
   "name": "python3"
  },
  "language_info": {
   "codemirror_mode": {
    "name": "ipython",
    "version": 3
   },
   "file_extension": ".py",
   "mimetype": "text/x-python",
   "name": "python",
   "nbconvert_exporter": "python",
   "pygments_lexer": "ipython3",
   "version": "3.12.4"
  }
 },
 "nbformat": 4,
 "nbformat_minor": 5
}
